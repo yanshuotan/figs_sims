{
 "cells": [
  {
   "cell_type": "code",
   "execution_count": null,
   "metadata": {
    "collapsed": true
   },
   "outputs": [],
   "source": [
    "import numpy as np\n",
    "import pandas as pd\n",
    "import matplotlib.pyplot as plt\n",
    "import seaborn as sns\n",
    "import pickle as pkl"
   ]
  },
  {
   "cell_type": "code",
   "execution_count": 6,
   "outputs": [],
   "source": [
    "with open(\"results/linear_sim_results.pkl\", \"rb\") as file:\n",
    "    linear_results = pkl.load(file)\n",
    "\n",
    "with open(\"results/lss_sim_results.pkl\", \"rb\") as file:\n",
    "    lss_results = pkl.load(file)\n",
    "\n",
    "with open(\"results/poly_sim_results.pkl\", \"rb\") as file:\n",
    "    poly_results = pkl.load(file)\n",
    "\n",
    "with open(\"results/hierarchical_lss_sim_results.pkl\", \"rb\") as file:\n",
    "    hierarchical_lss_results = pkl.load(file)"
   ],
   "metadata": {
    "collapsed": false
   }
  },
  {
   "cell_type": "markdown",
   "source": [
    "## Takeaways\n",
    "\n",
    "1. FIGS generally has lower bias compared to all other methods\n",
    "2. FIGS variance can be larger than other methods depending on the circumstances, and performs comparatively worse in low SNR settings\n",
    "3. FIGS MSE is worse in low SNR settings"
   ],
   "metadata": {
    "collapsed": false
   }
  }
 ],
 "metadata": {
  "kernelspec": {
   "display_name": "Python 3",
   "language": "python",
   "name": "python3"
  },
  "language_info": {
   "codemirror_mode": {
    "name": "ipython",
    "version": 2
   },
   "file_extension": ".py",
   "mimetype": "text/x-python",
   "name": "python",
   "nbconvert_exporter": "python",
   "pygments_lexer": "ipython2",
   "version": "2.7.6"
  }
 },
 "nbformat": 4,
 "nbformat_minor": 0
}
