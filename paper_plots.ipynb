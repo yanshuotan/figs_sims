{
 "cells": [
  {
   "cell_type": "code",
   "execution_count": 3,
   "metadata": {
    "collapsed": true,
    "ExecuteTime": {
     "end_time": "2023-12-02T06:05:26.228617Z",
     "start_time": "2023-12-02T06:05:26.144015Z"
    }
   },
   "outputs": [],
   "source": [
    "import numpy as np\n",
    "import pandas as pd\n",
    "import matplotlib.pyplot as plt\n",
    "import seaborn as sns\n",
    "import pickle as pkl\n",
    "\n",
    "from scripts.plot_util import plot_curves"
   ]
  },
  {
   "cell_type": "code",
   "execution_count": 4,
   "outputs": [],
   "source": [
    "with open(\"results/linear_sim_results.pkl\", \"rb\") as file:\n",
    "    linear_results = pkl.load(file)\n",
    "\n",
    "with open(\"results/lss_sim_results.pkl\", \"rb\") as file:\n",
    "    lss_results = pkl.load(file)\n",
    "\n",
    "with open(\"results/poly_sim_results.pkl\", \"rb\") as file:\n",
    "    poly_results = pkl.load(file)\n",
    "\n",
    "with open(\"results/hierarchical_lss_sim_results.pkl\", \"rb\") as file:\n",
    "    hierarchical_lss_results = pkl.load(file)"
   ],
   "metadata": {
    "collapsed": false,
    "ExecuteTime": {
     "end_time": "2023-12-02T06:05:26.528963Z",
     "start_time": "2023-12-02T06:05:26.520806Z"
    }
   }
  },
  {
   "cell_type": "markdown",
   "source": [
    "## Takeaways\n",
    "\n",
    "Bias\n",
    "1. FIGS generally has lower bias compared to all other methods\n",
    "2. All other methods experience high bias given some adversarial generative assumptions\n",
    "\n",
    "Variance\n",
    "1. GB stumps generally has lower variance compared to all other methods\n",
    "2. FIGS variance can be larger than other methods depending on the circumstances\n",
    "3. For Boolean regression function, variance drops until model is correctly specified, then increases\n",
    "4. For continuous regression function, variance tends to increase with no. of splits\n",
    "5. Variance tends to increase as SNR decreases.\n",
    "\n",
    "MSE\n",
    "1. FIGS MSE tends to be comparatively worse in low SNR settings.\n",
    "\n",
    "## Example plots for bias with different DGPs\n",
    "\n",
    "1. Linear model (s=6, H=0.6)\n",
    "2. Single boolean interaction (r=4)\n",
    "3. Hierarchical LSS (m=3, r=2)\n",
    "4. Hierarchical poly (m=3, r=3)"
   ],
   "metadata": {
    "collapsed": false
   }
  },
  {
   "cell_type": "code",
   "execution_count": 1,
   "outputs": [
    {
     "ename": "NameError",
     "evalue": "name 'linear_results' is not defined",
     "output_type": "error",
     "traceback": [
      "\u001B[0;31m---------------------------------------------------------------------------\u001B[0m",
      "\u001B[0;31mNameError\u001B[0m                                 Traceback (most recent call last)",
      "Cell \u001B[0;32mIn[1], line 3\u001B[0m\n\u001B[1;32m      1\u001B[0m H \u001B[38;5;241m=\u001B[39m \u001B[38;5;241m0.4\u001B[39m\n\u001B[0;32m----> 3\u001B[0m sim1 \u001B[38;5;241m=\u001B[39m [results \u001B[38;5;28;01mfor\u001B[39;00m results \u001B[38;5;129;01min\u001B[39;00m linear_results \u001B[38;5;28;01mif\u001B[39;00m results[\u001B[38;5;124m\"\u001B[39m\u001B[38;5;124ms\u001B[39m\u001B[38;5;124m\"\u001B[39m] \u001B[38;5;241m==\u001B[39m \u001B[38;5;241m6\u001B[39m \u001B[38;5;129;01mand\u001B[39;00m results[\u001B[38;5;124m\"\u001B[39m\u001B[38;5;124mheritability\u001B[39m\u001B[38;5;124m\"\u001B[39m] \u001B[38;5;241m==\u001B[39m H][\u001B[38;5;241m0\u001B[39m]\n\u001B[1;32m      4\u001B[0m sim2 \u001B[38;5;241m=\u001B[39m [results \u001B[38;5;28;01mfor\u001B[39;00m results \u001B[38;5;129;01min\u001B[39;00m poly_results \u001B[38;5;28;01mif\u001B[39;00m results[\u001B[38;5;124m\"\u001B[39m\u001B[38;5;124mm\u001B[39m\u001B[38;5;124m\"\u001B[39m] \u001B[38;5;241m==\u001B[39m \u001B[38;5;241m1\u001B[39m \u001B[38;5;129;01mand\u001B[39;00m results[\u001B[38;5;124m\"\u001B[39m\u001B[38;5;124mr\u001B[39m\u001B[38;5;124m\"\u001B[39m] \u001B[38;5;241m==\u001B[39m \u001B[38;5;241m3\u001B[39m \u001B[38;5;129;01mand\u001B[39;00m results[\u001B[38;5;124m\"\u001B[39m\u001B[38;5;124mheritability\u001B[39m\u001B[38;5;124m\"\u001B[39m] \u001B[38;5;241m==\u001B[39m H][\u001B[38;5;241m0\u001B[39m]\n\u001B[1;32m      5\u001B[0m sim3 \u001B[38;5;241m=\u001B[39m [results \u001B[38;5;28;01mfor\u001B[39;00m results \u001B[38;5;129;01min\u001B[39;00m poly_results \u001B[38;5;28;01mif\u001B[39;00m results[\u001B[38;5;124m\"\u001B[39m\u001B[38;5;124mm\u001B[39m\u001B[38;5;124m\"\u001B[39m] \u001B[38;5;241m==\u001B[39m \u001B[38;5;241m2\u001B[39m \u001B[38;5;129;01mand\u001B[39;00m results[\u001B[38;5;124m\"\u001B[39m\u001B[38;5;124mr\u001B[39m\u001B[38;5;124m\"\u001B[39m] \u001B[38;5;241m==\u001B[39m \u001B[38;5;241m2\u001B[39m \u001B[38;5;129;01mand\u001B[39;00m results[\u001B[38;5;124m\"\u001B[39m\u001B[38;5;124mheritability\u001B[39m\u001B[38;5;124m\"\u001B[39m] \u001B[38;5;241m==\u001B[39m H][\u001B[38;5;241m0\u001B[39m]\n",
      "\u001B[0;31mNameError\u001B[0m: name 'linear_results' is not defined"
     ]
    }
   ],
   "source": [
    "H = 0.4\n",
    "\n",
    "sim1 = [results for results in linear_results if results[\"s\"] == 6 and results[\"heritability\"] == H][0]\n",
    "sim2 = [results for results in poly_results if results[\"m\"] == 1 and results[\"r\"] == 3 and results[\"heritability\"] == H][0]\n",
    "sim3 = [results for results in poly_results if results[\"m\"] == 2 and results[\"r\"] == 2 and results[\"heritability\"] == H][0]\n",
    "sim4 = [results for results in lss_results if results[\"m\"] == 5 and results[\"r\"] == 2 and results[\"heritability\"] == H][0]\n",
    "\n",
    "sims = [sim1, sim2, sim3, sim4]\n",
    "names = [\"Linear\", \"Single poly\", \"Sum of polys\", \"LSS\"]\n",
    "for sim, name in zip(sims, names):\n",
    "    plot_curves(sim, name=f\"Fig 1 {name}\", title=False)"
   ],
   "metadata": {
    "collapsed": false
   }
  }
 ],
 "metadata": {
  "kernelspec": {
   "name": "sklearn-env",
   "language": "python",
   "display_name": "sklearn-env"
  },
  "language_info": {
   "codemirror_mode": {
    "name": "ipython",
    "version": 2
   },
   "file_extension": ".py",
   "mimetype": "text/x-python",
   "name": "python",
   "nbconvert_exporter": "python",
   "pygments_lexer": "ipython2",
   "version": "2.7.6"
  }
 },
 "nbformat": 4,
 "nbformat_minor": 0
}
